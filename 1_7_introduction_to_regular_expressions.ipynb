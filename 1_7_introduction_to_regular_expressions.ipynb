{
  "nbformat": 4,
  "nbformat_minor": 0,
  "metadata": {
    "celltoolbar": "Slideshow",
    "kernelspec": {
      "display_name": "Python 3",
      "language": "python",
      "name": "python3"
    },
    "language_info": {
      "codemirror_mode": {
        "name": "ipython",
        "version": 3
      },
      "file_extension": ".py",
      "mimetype": "text/x-python",
      "name": "python",
      "nbconvert_exporter": "python",
      "pygments_lexer": "ipython3",
      "version": "3.7.2"
    },
    "varInspector": {
      "cols": {
        "lenName": 16,
        "lenType": 16,
        "lenVar": 40
      },
      "kernels_config": {
        "python": {
          "delete_cmd_postfix": "",
          "delete_cmd_prefix": "del ",
          "library": "var_list.py",
          "varRefreshCmd": "print(var_dic_list())"
        },
        "r": {
          "delete_cmd_postfix": ") ",
          "delete_cmd_prefix": "rm(",
          "library": "var_list.r",
          "varRefreshCmd": "cat(var_dic_list()) "
        }
      },
      "types_to_exclude": [
        "module",
        "function",
        "builtin_function_or_method",
        "instance",
        "_Feature"
      ],
      "window_display": false
    },
    "colab": {
      "name": "1_7_introduction_to_regular_expressions.ipynb",
      "provenance": [],
      "include_colab_link": true
    }
  },
  "cells": [
    {
      "cell_type": "markdown",
      "metadata": {
        "id": "view-in-github",
        "colab_type": "text"
      },
      "source": [
        "<a href=\"https://colab.research.google.com/github/TWiedRW/module2_lectures/blob/master/1_7_introduction_to_regular_expressions.ipynb\" target=\"_parent\"><img src=\"https://colab.research.google.com/assets/colab-badge.svg\" alt=\"Open In Colab\"/></a>"
      ]
    },
    {
      "cell_type": "markdown",
      "metadata": {
        "id": "jXGL_9caqEhu",
        "colab_type": "text"
      },
      "source": [
        "## Regular Expressions\n",
        "\n",
        "<img src=\"https://imgs.xkcd.com/comics/regular_expressions.png \" width=400>"
      ]
    },
    {
      "cell_type": "markdown",
      "metadata": {
        "id": "q3cCHp-XqEhx",
        "colab_type": "text"
      },
      "source": [
        "## RegEx Golf\n",
        "\n",
        "<img src=\"https://imgs.xkcd.com/comics/regex_golf.png\" width=600>"
      ]
    },
    {
      "cell_type": "markdown",
      "metadata": {
        "id": "BSuGecqSqEhz",
        "colab_type": "text"
      },
      "source": [
        "## Perl Problems\n",
        "\n",
        "    Some people, when confronted with a problem, think \"I know, I'll use regular expressions.\" Now they have two problems. - Jamie Zawinski \n",
        "<img src=\"https://imgs.xkcd.com/comics/perl_problems.png\" width=600>"
      ]
    },
    {
      "cell_type": "markdown",
      "metadata": {
        "id": "L5bgumB2qEh3",
        "colab_type": "text"
      },
      "source": [
        "## <font color=\"red\"> Exercise 1 </font>\n",
        "\n",
        "**Question:** What do all of these strings have in common?\n",
        "\n",
        "* `\"ab\"`\n",
        "* `\"abab\"`\n",
        "* `\"ababcde\"`\n",
        "* `\"abcde\"`"
      ]
    },
    {
      "cell_type": "markdown",
      "metadata": {
        "id": "AAxyRDfaqEh4",
        "colab_type": "text"
      },
      "source": [
        "> They all contain the string or substring of \"ab\". Sometimes it occurs once, or other times with multiple occurances.\n"
      ]
    },
    {
      "cell_type": "markdown",
      "metadata": {
        "id": "T6ukDSS3qEh5",
        "colab_type": "text"
      },
      "source": [
        "## <font color=\"red\"> Exercise 2 </font>\n",
        "\n",
        "**Task:** Predict the next three elements of the sequence.\n",
        "\n",
        "* `\"0\"`\n",
        "* `\"1ab\"`\n",
        "* `\"2abab\"`\n",
        "* `\"3ababab\"`\n"
      ]
    },
    {
      "cell_type": "markdown",
      "metadata": {
        "id": "t6M0ZwtYqEh7",
        "colab_type": "text"
      },
      "source": [
        "* \"4abababab\"\n",
        "\n",
        "* \"5ababababab\""
      ]
    },
    {
      "cell_type": "markdown",
      "metadata": {
        "id": "2yjgV6yOqEh_",
        "colab_type": "text"
      },
      "source": [
        "## What is a regular expression\n",
        "\n",
        "* Language for matching regular patterns\n",
        "    * `\"ab\"`\n",
        "    * `\"abab\"`\n",
        "    * `\"ababcde\"`\n",
        "    * `\"abcde\"`\n",
        "* Can't match other, context sensitive, patterns\n",
        "    * `\"0\"`\n",
        "    * `\"1ab\"`\n",
        "    * `\"2abab\"`\n",
        "    * `\"3ababab\"`"
      ]
    },
    {
      "cell_type": "markdown",
      "metadata": {
        "id": "zfZtvR4pqEiG",
        "colab_type": "text"
      },
      "source": [
        "## <font color=\"red\"> Exercise 3 </font>\n",
        "\n",
        "**Tasks:** \n",
        "\n",
        "1. Go to [RegexOne](https://regexone.com/)\n",
        "2. Read the first section\n",
        "3. Define a pattern that matches the first three strings."
      ]
    },
    {
      "cell_type": "code",
      "metadata": {
        "id": "Nv5pi966qEiG",
        "colab_type": "code",
        "colab": {}
      },
      "source": [
        "pattern1 = \"abc\""
      ],
      "execution_count": null,
      "outputs": []
    },
    {
      "cell_type": "markdown",
      "metadata": {
        "id": "lgbpfWWcqEiM",
        "colab_type": "text"
      },
      "source": [
        "## Regular Expressions Workflow in Python\n",
        "\n",
        "* `import re`\n",
        "* Compile a pattern `regex = re.compile(pattern)`\n",
        "    * Use `r\"pattern\"` to avoid escaping symbols\n",
        "* `m = regex.match(some_string)`"
      ]
    },
    {
      "cell_type": "code",
      "metadata": {
        "id": "sFpu5JKpqEiO",
        "colab_type": "code",
        "colab": {}
      },
      "source": [
        "import re"
      ],
      "execution_count": 1,
      "outputs": []
    },
    {
      "cell_type": "code",
      "metadata": {
        "id": "Q5Hst9L3sIxQ",
        "colab_type": "code",
        "colab": {
          "base_uri": "https://localhost:8080/",
          "height": 137
        },
        "outputId": "947921a2-df16-4fb7-e563-596b5a6427e3"
      },
      "source": [
        "help(re.match)"
      ],
      "execution_count": null,
      "outputs": [
        {
          "output_type": "stream",
          "text": [
            "Help on function match in module re:\n",
            "\n",
            "match(pattern, string, flags=0)\n",
            "    Try to apply the pattern at the start of the string, returning\n",
            "    a match object, or None if no match was found.\n",
            "\n"
          ],
          "name": "stdout"
        }
      ]
    },
    {
      "cell_type": "code",
      "metadata": {
        "id": "gaolV9SHqEiV",
        "colab_type": "code",
        "colab": {
          "base_uri": "https://localhost:8080/",
          "height": 54
        },
        "outputId": "a084ba1b-e020-4489-ac8a-2768004c338a"
      },
      "source": [
        "pattern = r\"ab\" # r is for raw\n",
        "regex = re.compile(pattern)\n",
        "m1 = regex.match('abc')\n",
        "m1"
      ],
      "execution_count": null,
      "outputs": [
        {
          "output_type": "execute_result",
          "data": {
            "text/plain": [
              "<_sre.SRE_Match object; span=(0, 2), match='ab'>"
            ]
          },
          "metadata": {
            "tags": []
          },
          "execution_count": 5
        }
      ]
    },
    {
      "cell_type": "markdown",
      "metadata": {
        "id": "fKYINfIyqEib",
        "colab_type": "text"
      },
      "source": [
        "## `match` returns `None` when there is no match"
      ]
    },
    {
      "cell_type": "code",
      "metadata": {
        "id": "DSfbhFU-qEic",
        "colab_type": "code",
        "colab": {}
      },
      "source": [
        "m2 = regex.match('acb')\n",
        "m2"
      ],
      "execution_count": null,
      "outputs": []
    },
    {
      "cell_type": "code",
      "metadata": {
        "id": "_3IQWboaqEig",
        "colab_type": "code",
        "colab": {
          "base_uri": "https://localhost:8080/",
          "height": 54
        },
        "outputId": "4979a0e3-8f18-416c-83c1-c0426260dd64"
      },
      "source": [
        "m2 is None"
      ],
      "execution_count": null,
      "outputs": [
        {
          "output_type": "execute_result",
          "data": {
            "text/plain": [
              "True"
            ]
          },
          "metadata": {
            "tags": []
          },
          "execution_count": 7
        }
      ]
    },
    {
      "cell_type": "code",
      "metadata": {
        "id": "eIUpUOChqEij",
        "colab_type": "code",
        "colab": {
          "base_uri": "https://localhost:8080/",
          "height": 54
        },
        "outputId": "e42c92db-5aee-4876-81d1-e7fab48b7f21"
      },
      "source": [
        "not m2 "
      ],
      "execution_count": null,
      "outputs": [
        {
          "output_type": "execute_result",
          "data": {
            "text/plain": [
              "True"
            ]
          },
          "metadata": {
            "tags": []
          },
          "execution_count": 8
        }
      ]
    },
    {
      "cell_type": "markdown",
      "metadata": {
        "id": "qqnqaq4qqEim",
        "colab_type": "text"
      },
      "source": [
        "## The result of a match can be used in Boolean expressions"
      ]
    },
    {
      "cell_type": "code",
      "metadata": {
        "id": "g3Y46WyRqEin",
        "colab_type": "code",
        "colab": {},
        "outputId": "34165089-48bb-4695-af46-f9d00f3c8152"
      },
      "source": [
        "\"Yes\" if m1 else \"No\""
      ],
      "execution_count": null,
      "outputs": [
        {
          "output_type": "execute_result",
          "data": {
            "text/plain": [
              "'Yes'"
            ]
          },
          "metadata": {
            "tags": []
          },
          "execution_count": 10
        }
      ]
    },
    {
      "cell_type": "code",
      "metadata": {
        "id": "7ZA5nMreqEip",
        "colab_type": "code",
        "colab": {},
        "outputId": "b7be950e-c160-48bd-b7a3-fcd5d6557664"
      },
      "source": [
        "\"Yes\" if m2 else \"No\""
      ],
      "execution_count": null,
      "outputs": [
        {
          "output_type": "execute_result",
          "data": {
            "text/plain": [
              "'No'"
            ]
          },
          "metadata": {
            "tags": []
          },
          "execution_count": 11
        }
      ]
    },
    {
      "cell_type": "markdown",
      "metadata": {
        "id": "6CUQ2dsaqEiv",
        "colab_type": "text"
      },
      "source": [
        "## <font color=\"red\"> Exercise 4 </font>\n",
        "\n",
        "**Tasks:** Make sure your pattern from <font color=\"red\"> Exercise 3</font> passes the following `assert` statements."
      ]
    },
    {
      "cell_type": "code",
      "metadata": {
        "id": "m_m7MquRqEiv",
        "colab_type": "code",
        "colab": {}
      },
      "source": [
        "pattern1 = \"abc\"\n",
        "my_regex = re.compile(pattern1)\n",
        "assert my_regex.match('abcdefg')\n",
        "assert my_regex.match('abcde')\n",
        "assert my_regex.match('abc')\n",
        "assert not my_regex.match('acb')"
      ],
      "execution_count": null,
      "outputs": []
    },
    {
      "cell_type": "markdown",
      "metadata": {
        "id": "0GageBc1qEiy",
        "colab_type": "text"
      },
      "source": [
        "## Whitespace and escaped characters\n",
        "\n",
        "* Whitespace includes spaces, tabs, and newlines\n",
        "* Python uses escape characters: `\"\\t\"`, `\"\\n\"`"
      ]
    },
    {
      "cell_type": "markdown",
      "metadata": {
        "id": "rfD3uTmsqEiz",
        "colab_type": "text"
      },
      "source": [
        "#### Use `\"\\n\"` for newlines"
      ]
    },
    {
      "cell_type": "code",
      "metadata": {
        "id": "Dok6Zz9qqEiz",
        "colab_type": "code",
        "colab": {
          "base_uri": "https://localhost:8080/",
          "height": 58
        },
        "outputId": "0921601e-da22-4ce7-8495-68bb8ac54a4f"
      },
      "source": [
        "\"\\n\""
      ],
      "execution_count": null,
      "outputs": [
        {
          "output_type": "execute_result",
          "data": {
            "application/vnd.google.colaboratory.intrinsic+json": {
              "type": "string"
            },
            "text/plain": [
              "'\\n'"
            ]
          },
          "metadata": {
            "tags": []
          },
          "execution_count": 12
        }
      ]
    },
    {
      "cell_type": "code",
      "metadata": {
        "id": "TX3rRhZbqEi1",
        "colab_type": "code",
        "colab": {
          "base_uri": "https://localhost:8080/",
          "height": 71
        },
        "outputId": "ca17adb6-f131-41f8-acc0-be05d5d4caff"
      },
      "source": [
        "print('\\n')"
      ],
      "execution_count": null,
      "outputs": [
        {
          "output_type": "stream",
          "text": [
            "\n",
            "\n"
          ],
          "name": "stdout"
        }
      ]
    },
    {
      "cell_type": "code",
      "metadata": {
        "id": "U54cz9_sqEi3",
        "colab_type": "code",
        "colab": {
          "base_uri": "https://localhost:8080/",
          "height": 71
        },
        "outputId": "8e901343-ee54-4d03-f34d-2e6e0377441d"
      },
      "source": [
        "print('a\\nb')"
      ],
      "execution_count": null,
      "outputs": [
        {
          "output_type": "stream",
          "text": [
            "a\n",
            "b\n"
          ],
          "name": "stdout"
        }
      ]
    },
    {
      "cell_type": "markdown",
      "metadata": {
        "id": "apiToAPzqEi4",
        "colab_type": "text"
      },
      "source": [
        "#### Use `\"\\t\"` for tab"
      ]
    },
    {
      "cell_type": "code",
      "metadata": {
        "id": "7TCSyvbmqEi5",
        "colab_type": "code",
        "colab": {},
        "outputId": "89db2249-e1b4-49e9-cb24-fc70f2d87a0e"
      },
      "source": [
        "\"\\t\""
      ],
      "execution_count": null,
      "outputs": [
        {
          "output_type": "execute_result",
          "data": {
            "text/plain": [
              "'\\t'"
            ]
          },
          "metadata": {
            "tags": []
          },
          "execution_count": 14
        }
      ]
    },
    {
      "cell_type": "code",
      "metadata": {
        "id": "F-NFMm-uqEi6",
        "colab_type": "code",
        "colab": {},
        "outputId": "63931ca8-953d-46cb-da88-b29ed94b2b7d"
      },
      "source": [
        "print('\\t')"
      ],
      "execution_count": null,
      "outputs": [
        {
          "output_type": "stream",
          "text": [
            "\t\n"
          ],
          "name": "stdout"
        }
      ]
    },
    {
      "cell_type": "code",
      "metadata": {
        "id": "b6XhjsIyqEi8",
        "colab_type": "code",
        "colab": {},
        "outputId": "b5dbd0cd-ee7a-4fcd-81c3-c688d9df67c2"
      },
      "source": [
        "print('a\\tb')"
      ],
      "execution_count": null,
      "outputs": [
        {
          "output_type": "stream",
          "text": [
            "a\tb\n"
          ],
          "name": "stdout"
        }
      ]
    },
    {
      "cell_type": "markdown",
      "metadata": {
        "id": "DvsoCkREqEi-",
        "colab_type": "text"
      },
      "source": [
        "## Why use `r\"raw strings\"` in `regex`\n",
        "\n",
        "* Regular strings $\\rightarrow$ `\\` is for special characters: `'\\n'`, `'\\t'`\n",
        "* In regular expressions, `\\` is for\n",
        "    * Escaping: i.e. `\\.` vs. `.`\n",
        "* Without raw string, we would need \n",
        "    * `'\\\\n'`  to match a new line\n",
        "    * `'\\\\t'` to match a tab"
      ]
    },
    {
      "cell_type": "code",
      "metadata": {
        "id": "-wrjnXDOqEi-",
        "colab_type": "code",
        "colab": {},
        "outputId": "2de84e78-99fb-42f3-f3b3-afc1405562b8"
      },
      "source": [
        "r\"\\n\" # Raw string allow us to match newlines without the extra \\"
      ],
      "execution_count": null,
      "outputs": [
        {
          "output_type": "execute_result",
          "data": {
            "text/plain": [
              "'\\\\n'"
            ]
          },
          "metadata": {
            "tags": []
          },
          "execution_count": 1
        }
      ]
    },
    {
      "cell_type": "markdown",
      "metadata": {
        "id": "bd3jODbMqEi_",
        "colab_type": "text"
      },
      "source": [
        "## Important `match object` methods\n",
        "\n",
        "<table class=\"docutils\" border=\"1\">\n",
        "<colgroup>\n",
        "<col width=\"29%\">\n",
        "<col width=\"71%\">\n",
        "</colgroup>\n",
        "<thead valign=\"bottom\">\n",
        "<tr class=\"row-odd\"><th class=\"head\">Method/Attribute</th>\n",
        "<th class=\"head\">Purpose</th>\n",
        "</tr>\n",
        "</thead>\n",
        "<tbody valign=\"top\">\n",
        "<tr class=\"row-even\"><td><code class=\"docutils literal notranslate\"><span class=\"pre\">group()</span></code></td>\n",
        "<td>Return the string matched by the RE</td>\n",
        "</tr>\n",
        "<tr class=\"row-odd\"><td><code class=\"docutils literal notranslate\"><span class=\"pre\">start()</span></code></td>\n",
        "<td>Return the starting position of the match</td>\n",
        "</tr>\n",
        "<tr class=\"row-even\"><td><code class=\"docutils literal notranslate\"><span class=\"pre\">end()</span></code></td>\n",
        "<td>Return the ending position of the match</td>\n",
        "</tr>\n",
        "<tr class=\"row-odd\"><td><code class=\"docutils literal notranslate\"><span class=\"pre\">span()</span></code></td>\n",
        "<td>Return a tuple containing the (start, end)\n",
        "positions  of the match</td>\n",
        "</tr>\n",
        "</tbody>\n",
        "</table>"
      ]
    },
    {
      "cell_type": "code",
      "metadata": {
        "id": "hUfeIqoFqEi_",
        "colab_type": "code",
        "colab": {},
        "outputId": "37330060-e4b8-4af6-b7dd-befbc57ccc64"
      },
      "source": [
        "m1.group()"
      ],
      "execution_count": null,
      "outputs": [
        {
          "output_type": "execute_result",
          "data": {
            "text/plain": [
              "'ab'"
            ]
          },
          "metadata": {
            "tags": []
          },
          "execution_count": 74
        }
      ]
    },
    {
      "cell_type": "code",
      "metadata": {
        "id": "-YwKd9rBqEjC",
        "colab_type": "code",
        "colab": {},
        "outputId": "bb05ccee-5324-477e-8064-721d41025c9a"
      },
      "source": [
        "m1.start(), m.end()"
      ],
      "execution_count": null,
      "outputs": [
        {
          "output_type": "execute_result",
          "data": {
            "text/plain": [
              "(0, 2)"
            ]
          },
          "metadata": {
            "tags": []
          },
          "execution_count": 75
        }
      ]
    },
    {
      "cell_type": "code",
      "metadata": {
        "id": "UzC2r5XaqEjF",
        "colab_type": "code",
        "colab": {},
        "outputId": "f9675419-2ff3-401f-e224-48b8487b9d0c"
      },
      "source": [
        "m1.span()"
      ],
      "execution_count": null,
      "outputs": [
        {
          "output_type": "execute_result",
          "data": {
            "text/plain": [
              "(0, 2)"
            ]
          },
          "metadata": {
            "tags": []
          },
          "execution_count": 80
        }
      ]
    },
    {
      "cell_type": "markdown",
      "metadata": {
        "id": "huuT09XSqEjH",
        "colab_type": "text"
      },
      "source": [
        "## Be sure to check for `None`"
      ]
    },
    {
      "cell_type": "code",
      "metadata": {
        "id": "bl2hpUixqEjH",
        "colab_type": "code",
        "colab": {}
      },
      "source": [
        "m2 # example that DIDN'T match "
      ],
      "execution_count": null,
      "outputs": []
    },
    {
      "cell_type": "code",
      "metadata": {
        "id": "JuCx_3BCqEjI",
        "colab_type": "code",
        "colab": {},
        "outputId": "26e4634b-9da2-4287-b53e-cf7c0d7cb9c5"
      },
      "source": [
        "m2 is None # non-matches return None"
      ],
      "execution_count": null,
      "outputs": [
        {
          "output_type": "execute_result",
          "data": {
            "text/plain": [
              "True"
            ]
          },
          "metadata": {
            "tags": []
          },
          "execution_count": 18
        }
      ]
    },
    {
      "cell_type": "code",
      "metadata": {
        "id": "TRq3ytMkqEjK",
        "colab_type": "code",
        "colab": {},
        "outputId": "45b8cdf1-e560-4b76-85ec-8de8f12d9fbc"
      },
      "source": [
        "m2.group() # Oh you silly 'Nonetype' errors"
      ],
      "execution_count": null,
      "outputs": [
        {
          "output_type": "error",
          "ename": "AttributeError",
          "evalue": "'NoneType' object has no attribute 'group'",
          "traceback": [
            "\u001b[0;31m---------------------------------------------------------------------------\u001b[0m",
            "\u001b[0;31mAttributeError\u001b[0m                            Traceback (most recent call last)",
            "\u001b[0;32m<ipython-input-21-0951bace4a25>\u001b[0m in \u001b[0;36m<module>\u001b[0;34m()\u001b[0m\n\u001b[0;32m----> 1\u001b[0;31m \u001b[0mm2\u001b[0m\u001b[0;34m.\u001b[0m\u001b[0mgroup\u001b[0m\u001b[0;34m(\u001b[0m\u001b[0;34m)\u001b[0m \u001b[0;31m# Oh you silly 'Nonetype' errors\u001b[0m\u001b[0;34m\u001b[0m\u001b[0m\n\u001b[0m",
            "\u001b[0;31mAttributeError\u001b[0m: 'NoneType' object has no attribute 'group'"
          ]
        }
      ]
    },
    {
      "cell_type": "markdown",
      "metadata": {
        "id": "croqwHNnqEjM",
        "colab_type": "text"
      },
      "source": [
        "## Solution 1\n",
        "\n",
        "Always check for `None`"
      ]
    },
    {
      "cell_type": "code",
      "metadata": {
        "id": "PSaBm6-nqEjM",
        "colab_type": "code",
        "colab": {}
      },
      "source": [
        "m2.group() if m2 else None"
      ],
      "execution_count": null,
      "outputs": []
    },
    {
      "cell_type": "markdown",
      "metadata": {
        "id": "XZNzstuLqEjO",
        "colab_type": "text"
      },
      "source": [
        "## Solution 2\n",
        "\n",
        "Learn about the [`Maybe` monad](https://en.wikipedia.org/wiki/Monad_(functional_programming)#An_example:_Maybe). (We will tackle this in a later chapter.)"
      ]
    },
    {
      "cell_type": "markdown",
      "metadata": {
        "id": "tJeHauZBqEjO",
        "colab_type": "text"
      },
      "source": [
        "## Python regex methods\n",
        "\n",
        "<table class=\"docutils\" border=\"1\">\n",
        "<colgroup>\n",
        "<col width=\"28%\">\n",
        "<col width=\"72%\">\n",
        "</colgroup>\n",
        "<thead valign=\"bottom\">\n",
        "<tr class=\"row-odd\"><th class=\"head\">Method/Attribute</th>\n",
        "<th class=\"head\">Purpose</th>\n",
        "</tr>\n",
        "</thead>\n",
        "<tbody valign=\"top\">\n",
        "<tr class=\"row-even\"><td><code class=\"docutils literal notranslate\"><span class=\"pre\">match()</span></code></td>\n",
        "<td>Determine if the RE matches at the beginning\n",
        "of the string.</td>\n",
        "</tr>\n",
        "<tr class=\"row-odd\"><td><code class=\"docutils literal notranslate\"><span class=\"pre\">search()</span></code></td>\n",
        "<td>Scan through a string, looking for any\n",
        "location where this RE matches.</td>\n",
        "</tr>\n",
        "<tr class=\"row-even\"><td><code class=\"docutils literal notranslate\"><span class=\"pre\">findall()</span></code></td>\n",
        "<td>Find all substrings where the RE matches, and\n",
        "returns them as a list.</td>\n",
        "</tr>\n",
        "<tr class=\"row-odd\"><td><code class=\"docutils literal notranslate\"><span class=\"pre\">finditer()</span></code></td>\n",
        "<td>Find all substrings where the RE matches, and\n",
        "returns them as an <a class=\"reference internal\" href=\"../glossary.html#term-iterator\"><span class=\"xref std std-term\">iterator</span></a>.</td>\n",
        "</tr>\n",
        "</tbody>\n",
        "</table>\n",
        "\n",
        "**Source:** [Python documentation](https://docs.python.org/3/howto/regex.html)"
      ]
    },
    {
      "cell_type": "markdown",
      "metadata": {
        "id": "FDbI-3slqEjO",
        "colab_type": "text"
      },
      "source": [
        "## A better `str.replace`\n",
        "\n",
        "* Often chain many `replace` calls\n",
        "* Example `s.replace('(', '').replace(')','').replace(':', '')`\n",
        "* We can use `re.sub` to simplify."
      ]
    },
    {
      "cell_type": "code",
      "metadata": {
        "id": "HLO8oRJxqEjO",
        "colab_type": "code",
        "colab": {
          "base_uri": "https://localhost:8080/",
          "height": 34
        },
        "outputId": "9151c170-72a5-45f1-fa7b-8283981aac2e"
      },
      "source": [
        "s = \"The string (has) some: things in (it)\"\n",
        "s.replace('(', '').replace(')','').replace(':', '')"
      ],
      "execution_count": 2,
      "outputs": [
        {
          "output_type": "execute_result",
          "data": {
            "application/vnd.google.colaboratory.intrinsic+json": {
              "type": "string"
            },
            "text/plain": [
              "'The string has some things in it'"
            ]
          },
          "metadata": {
            "tags": []
          },
          "execution_count": 2
        }
      ]
    },
    {
      "cell_type": "code",
      "metadata": {
        "id": "S-2G7ioOqEjQ",
        "colab_type": "code",
        "colab": {
          "base_uri": "https://localhost:8080/",
          "height": 34
        },
        "outputId": "4821171b-1ca3-4ecf-d944-627317f7b135"
      },
      "source": [
        "re.sub(r\"[():]\", '', s)"
      ],
      "execution_count": 3,
      "outputs": [
        {
          "output_type": "execute_result",
          "data": {
            "application/vnd.google.colaboratory.intrinsic+json": {
              "type": "string"
            },
            "text/plain": [
              "'The string has some things in it'"
            ]
          },
          "metadata": {
            "tags": []
          },
          "execution_count": 3
        }
      ]
    },
    {
      "cell_type": "markdown",
      "metadata": {
        "id": "RsBe7L8FqEjS",
        "colab_type": "text"
      },
      "source": [
        "## Substitutions with a compiled RegEx\n",
        "\n",
        "1. Compile a pattern\n",
        "2. Use `pat.sub(new_substr, s)`"
      ]
    },
    {
      "cell_type": "code",
      "metadata": {
        "id": "BIjZMvYLqEjS",
        "colab_type": "code",
        "colab": {},
        "outputId": "ce97a606-bfb0-409e-9737-b3be9c7ec1a0"
      },
      "source": [
        "paren_or_colon = re.compile(r\"[():]\")\n",
        "paren_or_colon.sub('', s)"
      ],
      "execution_count": null,
      "outputs": [
        {
          "output_type": "execute_result",
          "data": {
            "text/plain": [
              "'The string has some things in it'"
            ]
          },
          "metadata": {
            "tags": []
          },
          "execution_count": 9
        }
      ]
    },
    {
      "cell_type": "markdown",
      "metadata": {
        "id": "8LQuQwEhqEjV",
        "colab_type": "text"
      },
      "source": [
        "## <font color=\"red\"> Exercise 4 </font>\n",
        "\n",
        "**Task:** Write and test a function that uses `re.sub` to remove all punctuation from a string.  **Hint:** Use the `punctuation` variable from the `string` module."
      ]
    },
    {
      "cell_type": "code",
      "metadata": {
        "id": "eqDvhwGOqEjV",
        "colab_type": "code",
        "colab": {
          "base_uri": "https://localhost:8080/",
          "height": 34
        },
        "outputId": "92dfff6d-fcd3-481d-87b3-a96a53aa1086"
      },
      "source": [
        "import re\n",
        "\n",
        "sub = lambda s: re.sub('[^a-z, ^A-Z, ^0-9]', '', s)\n",
        "my_str = 'Tyl!er. Wiederich$_1!'\n",
        "sub(my_str)"
      ],
      "execution_count": 17,
      "outputs": [
        {
          "output_type": "execute_result",
          "data": {
            "application/vnd.google.colaboratory.intrinsic+json": {
              "type": "string"
            },
            "text/plain": [
              "'Tyler Wiederich1'"
            ]
          },
          "metadata": {
            "tags": []
          },
          "execution_count": 17
        }
      ]
    },
    {
      "cell_type": "code",
      "metadata": {
        "id": "6UmkLfnp7P86",
        "colab_type": "code",
        "colab": {
          "base_uri": "https://localhost:8080/",
          "height": 543
        },
        "outputId": "d9d9d069-69b4-48ce-e592-8a5dfcf34740"
      },
      "source": [
        "list(punctuation)"
      ],
      "execution_count": 6,
      "outputs": [
        {
          "output_type": "execute_result",
          "data": {
            "text/plain": [
              "['!',\n",
              " '\"',\n",
              " '#',\n",
              " '$',\n",
              " '%',\n",
              " '&',\n",
              " \"'\",\n",
              " '(',\n",
              " ')',\n",
              " '*',\n",
              " '+',\n",
              " ',',\n",
              " '-',\n",
              " '.',\n",
              " '/',\n",
              " ':',\n",
              " ';',\n",
              " '<',\n",
              " '=',\n",
              " '>',\n",
              " '?',\n",
              " '@',\n",
              " '[',\n",
              " '\\\\',\n",
              " ']',\n",
              " '^',\n",
              " '_',\n",
              " '`',\n",
              " '{',\n",
              " '|',\n",
              " '}',\n",
              " '~']"
            ]
          },
          "metadata": {
            "tags": []
          },
          "execution_count": 6
        }
      ]
    },
    {
      "cell_type": "code",
      "metadata": {
        "id": "23hgj_od5SU1",
        "colab_type": "code",
        "colab": {}
      },
      "source": [
        "dir(re)"
      ],
      "execution_count": null,
      "outputs": []
    },
    {
      "cell_type": "markdown",
      "metadata": {
        "id": "9Yp7hmn6qEjZ",
        "colab_type": "text"
      },
      "source": [
        "## Next Up\n",
        "\n",
        "Now you should read through the rest of [RegExOne](https://regexone.com/) and put your work in [Lab 3](./lab_3_regexone.ipynb)."
      ]
    },
    {
      "cell_type": "code",
      "metadata": {
        "id": "76bBo7Qi2dIx",
        "colab_type": "code",
        "colab": {}
      },
      "source": [
        "import re"
      ],
      "execution_count": 3,
      "outputs": []
    },
    {
      "cell_type": "code",
      "metadata": {
        "id": "3PFE9roR_Gmr",
        "colab_type": "code",
        "colab": {}
      },
      "source": [
        "#1\n",
        "pattern1 = \"abc\"\n",
        "my_regex = re.compile(pattern1)\n",
        "assert my_regex.match('abcdefg')\n",
        "assert my_regex.match('abcde')\n",
        "assert my_regex.match('abc')"
      ],
      "execution_count": 18,
      "outputs": []
    },
    {
      "cell_type": "code",
      "metadata": {
        "id": "_qxiXTNv8wBq",
        "colab_type": "code",
        "colab": {}
      },
      "source": [
        "#1 1/2\n",
        "pattern1 = '(123)'\n",
        "my_regex = re.compile(pattern1)\n",
        "assert my_regex.search('abc123xyz')\n",
        "assert my_regex.search('define \"123\"')\n",
        "assert my_regex.search('var g = 123;')"
      ],
      "execution_count": 19,
      "outputs": []
    },
    {
      "cell_type": "code",
      "metadata": {
        "id": "LVGYSewD81jN",
        "colab_type": "code",
        "colab": {}
      },
      "source": [
        "#2\n",
        "pattern1 = \"...\\.\"\n",
        "my_regex = re.compile(pattern1)\n",
        "assert my_regex.match('cat.')\n",
        "assert my_regex.match('896.')\n",
        "assert my_regex.match('?=+.')\n",
        "assert not my_regex.match('abc1')"
      ],
      "execution_count": 20,
      "outputs": []
    },
    {
      "cell_type": "code",
      "metadata": {
        "id": "LNnWpe9F96tF",
        "colab_type": "code",
        "colab": {}
      },
      "source": [
        "#3\n",
        "pattern1 = \"[cmf]an\"\n",
        "my_regex = re.compile(pattern1)\n",
        "assert my_regex.match('can')\n",
        "assert my_regex.match('man')\n",
        "assert my_regex.match('fan')\n",
        "assert not my_regex.match('dan')\n",
        "assert not my_regex.match('ran')\n",
        "assert not my_regex.match('pan')"
      ],
      "execution_count": 21,
      "outputs": []
    },
    {
      "cell_type": "code",
      "metadata": {
        "id": "0Zpas5DbDdxG",
        "colab_type": "code",
        "colab": {}
      },
      "source": [
        "#4\n",
        "pattern1 = \"[hd]og\"\n",
        "my_regex = re.compile(pattern1)\n",
        "assert my_regex.match('hog')\n",
        "assert my_regex.match('dog')\n",
        "assert not my_regex.match('bog')"
      ],
      "execution_count": 15,
      "outputs": []
    },
    {
      "cell_type": "code",
      "metadata": {
        "id": "LOY56iP_4vnF",
        "colab_type": "code",
        "colab": {}
      },
      "source": [
        "#5\n",
        "pattern1 = \"[ABC]\"\n",
        "my_regex = re.compile(pattern1)\n",
        "assert my_regex.match('Ana')\n",
        "assert my_regex.match('Bob')\n",
        "assert my_regex.match('Cpc')\n",
        "assert not my_regex.match('aax')\n",
        "assert not my_regex.match('bby')\n",
        "assert not my_regex.match('ccz')"
      ],
      "execution_count": 16,
      "outputs": []
    },
    {
      "cell_type": "code",
      "metadata": {
        "id": "TtM0OT0l4_08",
        "colab_type": "code",
        "colab": {}
      },
      "source": [
        "#6\n",
        "pattern1 = \"waz{3,5}up\"\n",
        "my_regex = re.compile(pattern1)\n",
        "assert my_regex.match('wazzzzzup')\n",
        "assert my_regex.match('wazzzup')\n",
        "assert not my_regex.match('wazup')"
      ],
      "execution_count": 20,
      "outputs": []
    },
    {
      "cell_type": "code",
      "metadata": {
        "id": "nF_RZ7Gg5rhB",
        "colab_type": "code",
        "colab": {}
      },
      "source": [
        "#7\n",
        "pattern1 = \"aa+b*c+\"\n",
        "my_regex = re.compile(pattern1)\n",
        "assert my_regex.match('aaaabcc')\n",
        "assert my_regex.match('aabbbbc')\n",
        "assert my_regex.match('aacc')\n",
        "assert not my_regex.match('a')"
      ],
      "execution_count": 21,
      "outputs": []
    },
    {
      "cell_type": "code",
      "metadata": {
        "id": "jre-4SDp6TTc",
        "colab_type": "code",
        "colab": {}
      },
      "source": [
        "#8\n",
        "pattern1 = \"\\d+ files? found\\?\"\n",
        "my_regex = re.compile(pattern1)\n",
        "assert my_regex.match('1 file found?')\n",
        "assert my_regex.match('2 files found?')\n",
        "assert my_regex.match('24 files found?')\n",
        "assert not my_regex.match('No files found')"
      ],
      "execution_count": 23,
      "outputs": []
    },
    {
      "cell_type": "code",
      "metadata": {
        "id": "rA_pL_5O6k4o",
        "colab_type": "code",
        "colab": {}
      },
      "source": [
        "#9\n",
        "pattern1 = \"\\d\\.\\s+abc\"\n",
        "my_regex = re.compile(pattern1)\n",
        "assert my_regex.match('1.   abc')\n",
        "assert my_regex.match('2.\tabc')\n",
        "assert my_regex.match('3.           abc')\n",
        "assert not my_regex.match('4.abc')"
      ],
      "execution_count": 24,
      "outputs": []
    },
    {
      "cell_type": "code",
      "metadata": {
        "id": "AgOgblQB66FF",
        "colab_type": "code",
        "colab": {}
      },
      "source": [
        "#10\n",
        "pattern1 = \"^Mission: successful\"\n",
        "my_regex = re.compile(pattern1)\n",
        "assert my_regex.match('Mission: successful')\n",
        "assert not my_regex.match('Next Mission: successful upon capture of target')"
      ],
      "execution_count": 8,
      "outputs": []
    },
    {
      "cell_type": "code",
      "metadata": {
        "id": "OFiuxt2-dMjC",
        "colab_type": "code",
        "colab": {}
      },
      "source": [
        "#11\n",
        "pattern1 = \"^(file.+)\\.pdf$\"\n",
        "my_regex = re.compile(pattern1)\n",
        "assert my_regex.match('Mission: successful')\n",
        "assert not my_regex.match('Next Mission: successful upon capture of target')"
      ],
      "execution_count": null,
      "outputs": []
    },
    {
      "cell_type": "code",
      "metadata": {
        "id": "sATkO37Tftkg",
        "colab_type": "code",
        "colab": {}
      },
      "source": [
        "#12\n",
        "pattern1 = \"(\\w+ (\\d+))\"\n",
        "my_regex = re.compile(pattern1)\n",
        "assert my_regex.match('Jan 1987')\n",
        "assert my_regex.match('May 1967')\n",
        "assert my_regex.match('Aug 2011')"
      ],
      "execution_count": 10,
      "outputs": []
    },
    {
      "cell_type": "code",
      "metadata": {
        "id": "v0F2q3j2kldV",
        "colab_type": "code",
        "colab": {}
      },
      "source": [
        "#13\n",
        "pattern1 = \"(\\d+)x(\\d+)\"\n",
        "my_regex = re.compile(pattern1)\n",
        "assert my_regex.match('1280x720')\n",
        "assert my_regex.match('1920x1600')\n",
        "assert my_regex.match('1024x768')"
      ],
      "execution_count": 11,
      "outputs": []
    },
    {
      "cell_type": "code",
      "metadata": {
        "id": "BOXNfb6FyIwc",
        "colab_type": "code",
        "colab": {}
      },
      "source": [
        "#14\n",
        "pattern1 = \"I love (cats|dogs)\"\n",
        "my_regex = re.compile(pattern1)\n",
        "assert my_regex.match('I love cats')\n",
        "assert my_regex.match('I love dogs')\n",
        "assert not my_regex.match('I love logs')\n",
        "assert not my_regex.match('I love cogs')"
      ],
      "execution_count": 13,
      "outputs": []
    },
    {
      "cell_type": "code",
      "metadata": {
        "id": "RAqQZS6Lyq2u",
        "colab_type": "code",
        "colab": {}
      },
      "source": [
        "#15\n",
        "pattern1 = \".*\"\n",
        "my_regex = re.compile(pattern1)\n",
        "assert my_regex.match('The quick brown fox jumps over the lazy dog.')\n",
        "assert my_regex.match('There were 614 instances of students getting 90.0% or above.')\n",
        "assert my_regex.match('The FCC had to censor the network for saying &$#*@!.')"
      ],
      "execution_count": 14,
      "outputs": []
    }
  ]
}