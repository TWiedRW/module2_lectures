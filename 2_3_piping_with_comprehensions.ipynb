{
  "nbformat": 4,
  "nbformat_minor": 0,
  "metadata": {
    "anaconda-cloud": {},
    "kernelspec": {
      "display_name": "Python 3",
      "language": "python",
      "name": "python3"
    },
    "language_info": {
      "codemirror_mode": {
        "name": "ipython",
        "version": 3
      },
      "file_extension": ".py",
      "mimetype": "text/x-python",
      "name": "python",
      "nbconvert_exporter": "python",
      "pygments_lexer": "ipython3",
      "version": "3.7.2"
    },
    "colab": {
      "name": "2_3_piping_with_comprehensions.ipynb",
      "provenance": [],
      "include_colab_link": true
    }
  },
  "cells": [
    {
      "cell_type": "markdown",
      "metadata": {
        "id": "view-in-github",
        "colab_type": "text"
      },
      "source": [
        "<a href=\"https://colab.research.google.com/github/TWiedRW/module2_lectures/blob/master/2_3_piping_with_comprehensions.ipynb\" target=\"_parent\"><img src=\"https://colab.research.google.com/assets/colab-badge.svg\" alt=\"Open In Colab\"/></a>"
      ]
    },
    {
      "cell_type": "markdown",
      "metadata": {
        "id": "z0yv0-BPgocr"
      },
      "source": [
        "# Piping and List Comprehensions\n",
        "\n",
        "## Objectives\n",
        "\n",
        "1. Identify and use the basic structures of combinind list comprehensions and piping\n",
        "2. Learn about composing list comprehension lambdas"
      ]
    },
    {
      "cell_type": "markdown",
      "metadata": {
        "collapsed": true,
        "id": "H59otPP0goc1"
      },
      "source": [
        "## List Comprehension\n",
        "\n",
        "* Expression for constructing list\n",
        "* Returns a new list\n",
        "* Reads like math\n",
        "    * Set builder notation"
      ]
    },
    {
      "cell_type": "code",
      "metadata": {
        "id": "AzB-FE1mgoc5",
        "outputId": "7c78f0ac-9c6a-4395-de16-e9edf9f20e86"
      },
      "source": [
        "mylist = [1,2,3,4,5]\n",
        "yourlist = [item ** 2 for item in mylist]\n",
        "yourlist"
      ],
      "execution_count": null,
      "outputs": [
        {
          "output_type": "execute_result",
          "data": {
            "text/plain": [
              "[1, 4, 9, 16, 25]"
            ]
          },
          "metadata": {
            "tags": []
          },
          "execution_count": 1
        }
      ]
    },
    {
      "cell_type": "markdown",
      "metadata": {
        "id": "X9UXmfqagodE"
      },
      "source": [
        "## Pipeable functions with comprehensions\n",
        "\n",
        "\n",
        "    \n",
        "<img src=\"https://github.com/TWiedRW/module2_lectures/blob/master/img/pipe_and_list_comp.png?raw=1\" width=600>"
      ]
    },
    {
      "cell_type": "markdown",
      "metadata": {
        "id": "Mvxpe573godF"
      },
      "source": [
        "## Splitting and processing string\n",
        "\n",
        "* Use `split` to cut a string into a list of strings\n",
        "* Use a comprehension to process the list."
      ]
    },
    {
      "cell_type": "code",
      "metadata": {
        "id": "epeqHHXhgodF",
        "outputId": "9b6ab71e-8c26-4697-9465-9e0f9d8d8e16",
        "colab": {
          "base_uri": "https://localhost:8080/",
          "height": 34
        }
      },
      "source": [
        "quote = \"Don't judge each day by the harvest you reap but by the seeds that you plant.\"\n",
        "words = quote.split(\" \")\n",
        "lengths =  [len(word) for word in words]\n",
        "mean = sum(lengths)/len(lengths)\n",
        "mean"
      ],
      "execution_count": 1,
      "outputs": [
        {
          "output_type": "execute_result",
          "data": {
            "text/plain": [
              "3.875"
            ]
          },
          "metadata": {
            "tags": []
          },
          "execution_count": 1
        }
      ]
    },
    {
      "cell_type": "code",
      "metadata": {
        "id": "mp8rM9I5godM",
        "outputId": "d773df85-dad7-4c0a-fe49-d9fe85f9432c",
        "colab": {
          "base_uri": "https://localhost:8080/",
          "height": 156
        }
      },
      "source": [
        "!pip install composable\n",
        "from composable import pipeable"
      ],
      "execution_count": 2,
      "outputs": [
        {
          "output_type": "stream",
          "text": [
            "Collecting composable\n",
            "  Downloading https://files.pythonhosted.org/packages/d3/1a/87106d920e7533b86b7de59d4df02a36e7289618fbd51a5b837d090e1400/composable-0.1.3-py3-none-any.whl\n",
            "Collecting python-forge<19.0,>=18.6\n",
            "  Downloading https://files.pythonhosted.org/packages/41/d6/e9af8e22d153ebbf584833c1c96d590046f522ae2a86978d4efe496b4aac/python_forge-18.6.0-py35-none-any.whl\n",
            "Requirement already satisfied: toolz<0.11.0,>=0.10.0 in /usr/local/lib/python3.6/dist-packages (from composable) (0.10.0)\n",
            "Installing collected packages: python-forge, composable\n",
            "Successfully installed composable-0.1.3 python-forge-18.6.0\n"
          ],
          "name": "stdout"
        }
      ]
    },
    {
      "cell_type": "code",
      "metadata": {
        "id": "ndxxT27SgodS"
      },
      "source": [
        "split = pipeable(lambda sep, s: s.split(sep))\n",
        "word_lengths = pipeable(lambda L: [len(word) for word in L])\n",
        "mean = pipeable(lambda L: sum(L)/len(L))"
      ],
      "execution_count": 3,
      "outputs": []
    },
    {
      "cell_type": "code",
      "metadata": {
        "id": "Sqtc6X_RgodX",
        "outputId": "f4f729fc-26ae-4f3c-f788-1ffd26828fb8",
        "colab": {
          "base_uri": "https://localhost:8080/",
          "height": 54
        }
      },
      "source": [
        "(quote\n",
        " >> split(\" \")\n",
        " >> word_lengths\n",
        " >> mean\n",
        ")"
      ],
      "execution_count": null,
      "outputs": [
        {
          "output_type": "execute_result",
          "data": {
            "text/plain": [
              "3.875"
            ]
          },
          "metadata": {
            "tags": []
          },
          "execution_count": 7
        }
      ]
    },
    {
      "cell_type": "markdown",
      "metadata": {
        "id": "hUpkPXyJgodw"
      },
      "source": [
        "### <font color='red'> Exercise 1 </font>\n",
        "\n",
        "Use a pipe to take a quote, split it into words, and then grab the last two letter of each word.  **Hint:** Use the slice operation!  Package this process in a function called `first_two_char` and including appropriate doc string and text function."
      ]
    },
    {
      "cell_type": "code",
      "metadata": {
        "id": "3uK1yGY1godw",
        "outputId": "61a0e8e5-bd06-467c-d8df-aefffc8ba03c",
        "colab": {
          "base_uri": "https://localhost:8080/",
          "height": 289
        }
      },
      "source": [
        "def first_two_char(quote):\n",
        "  \"\"\" Getting the first two letters from each word in a quote.\n",
        "\n",
        "  Args: \n",
        "    quote: A quote in the form of a string.\n",
        "\n",
        "  Returns: \n",
        "    A list with the first two letters of each word.\n",
        "\n",
        "  \"\"\"\n",
        "  # Setting up pipeable functions\n",
        "  split = pipeable(lambda sep, s: s.split(sep))\n",
        "  first_two = pipeable(lambda L: [x[0:2] for x in L])\n",
        "\n",
        "  # Piping the functions\n",
        "  output = (quote\n",
        "      >> split(\" \")\n",
        "      >> first_two()\n",
        "  )\n",
        "  return(output)\n",
        "\n",
        "# Running the function\n",
        "first_two_char(quote)"
      ],
      "execution_count": 4,
      "outputs": [
        {
          "output_type": "execute_result",
          "data": {
            "text/plain": [
              "['Do',\n",
              " 'ju',\n",
              " 'ea',\n",
              " 'da',\n",
              " 'by',\n",
              " 'th',\n",
              " 'ha',\n",
              " 'yo',\n",
              " 're',\n",
              " 'bu',\n",
              " 'by',\n",
              " 'th',\n",
              " 'se',\n",
              " 'th',\n",
              " 'yo',\n",
              " 'pl']"
            ]
          },
          "metadata": {
            "tags": []
          },
          "execution_count": 4
        }
      ]
    },
    {
      "cell_type": "markdown",
      "metadata": {
        "id": "TdqWWCH1god1"
      },
      "source": [
        "### <font color='red'> Exercise 2 </font>\n",
        "\n",
        "Notice that period at the end of the sentence.  It is probably safest to remove punctuation like periods, questions marks, and exclamation points.  Add a step to the pipe to remove these characters."
      ]
    },
    {
      "cell_type": "code",
      "metadata": {
        "id": "H_DznhzLgod1",
        "outputId": "57c0f35d-2b4c-4dec-c035-21e986aee8fa",
        "colab": {
          "base_uri": "https://localhost:8080/",
          "height": 289
        }
      },
      "source": [
        "import re\n",
        "\n",
        "def first_two_char(quote):\n",
        "  \"\"\" Getting the first two letters from each word in a quote.\n",
        "\n",
        "  Args: \n",
        "    quote: A quote in the form of a string.\n",
        "\n",
        "  Returns: \n",
        "    A list with the first two letters of each word.\n",
        "\n",
        "  \"\"\"\n",
        "  # Setting up pipeable functions\n",
        "  remove_punct = pipeable(lambda L: re.sub(r'[^\\w\\s]', '', L))\n",
        "  split = pipeable(lambda sep, s: s.split(sep))\n",
        "  first_two = pipeable(lambda L: [x[0:2] for x in L])\n",
        "\n",
        "  # Piping the functions\n",
        "  output = (quote\n",
        "      >> remove_punct()\n",
        "      >> split(\" \")\n",
        "      >> first_two()\n",
        "  )\n",
        "  return(output)\n",
        "\n",
        "# Running the function\n",
        "first_two_char(quote)"
      ],
      "execution_count": 5,
      "outputs": [
        {
          "output_type": "execute_result",
          "data": {
            "text/plain": [
              "['Do',\n",
              " 'ju',\n",
              " 'ea',\n",
              " 'da',\n",
              " 'by',\n",
              " 'th',\n",
              " 'ha',\n",
              " 'yo',\n",
              " 're',\n",
              " 'bu',\n",
              " 'by',\n",
              " 'th',\n",
              " 'se',\n",
              " 'th',\n",
              " 'yo',\n",
              " 'pl']"
            ]
          },
          "metadata": {
            "tags": []
          },
          "execution_count": 5
        }
      ]
    },
    {
      "cell_type": "markdown",
      "metadata": {
        "id": "VRTS2q1Rgod4"
      },
      "source": [
        "## (Ab)Using tuples in sequence processing.\n",
        "\n",
        "* Sometimes it is useful to hold mulitple pieces of information at once.\n",
        "    * Example *Keep all of the even length words* needs both length and the words themselves.\n",
        "* In this case we will use a list of tuples to aid the computation."
      ]
    },
    {
      "cell_type": "markdown",
      "metadata": {
        "id": "T2rjIUIqgoeA"
      },
      "source": [
        "## Example: Take a quote and only keep the even length word."
      ]
    },
    {
      "cell_type": "markdown",
      "metadata": {
        "id": "R-ghKSaegoeF"
      },
      "source": [
        "#### Step 1 -- Get both words and lengths"
      ]
    },
    {
      "cell_type": "code",
      "metadata": {
        "id": "cYi-oSFogoeG"
      },
      "source": [
        "lengths_and_words = pipeable(lambda L: [(w, len(w)) for w in L ])\n",
        "take = pipeable(lambda num, L: L[:num])"
      ],
      "execution_count": null,
      "outputs": []
    },
    {
      "cell_type": "code",
      "metadata": {
        "id": "I6aDAh3PgoeU",
        "outputId": "baa43346-e9c2-496b-89e2-b55f7f5dfd4c"
      },
      "source": [
        "(quote\n",
        " >> split(\" \")\n",
        " >> lengths_and_words\n",
        " >> take(2)\n",
        ")"
      ],
      "execution_count": null,
      "outputs": [
        {
          "output_type": "execute_result",
          "data": {
            "text/plain": [
              "[(\"Don't\", 5), ('judge', 5)]"
            ]
          },
          "metadata": {
            "tags": []
          },
          "execution_count": 25
        }
      ]
    },
    {
      "cell_type": "markdown",
      "metadata": {
        "id": "5-w-3g1ugoeW"
      },
      "source": [
        "#### Step 2 -- Filter based on length"
      ]
    },
    {
      "cell_type": "code",
      "metadata": {
        "id": "1nlVDYYmgoeX"
      },
      "source": [
        "is_even = lambda num: num % 2 == 0\n",
        "keep_even_lengths = pipeable(lambda tups: [w for w, length in tups if is_even(length)])"
      ],
      "execution_count": null,
      "outputs": []
    },
    {
      "cell_type": "code",
      "metadata": {
        "id": "X3Wu-AVLgoe8",
        "outputId": "76e49092-2aad-44c6-cbfb-a6838ad7d9e4"
      },
      "source": [
        "(quote\n",
        " >> split(\" \")\n",
        " >> lengths_and_words\n",
        " >> keep_even_lengths\n",
        ")"
      ],
      "execution_count": null,
      "outputs": [
        {
          "output_type": "execute_result",
          "data": {
            "text/plain": [
              "['each', 'by', 'reap', 'by', 'that', 'plant.']"
            ]
          },
          "metadata": {
            "tags": []
          },
          "execution_count": 30
        }
      ]
    },
    {
      "cell_type": "markdown",
      "metadata": {
        "id": "eEnMnCJagofK"
      },
      "source": [
        "## <font color=\"red\"> TODO Add a image of what is happening here </font>"
      ]
    },
    {
      "cell_type": "markdown",
      "metadata": {
        "id": "wtLaJ-d8gofL"
      },
      "source": [
        "### <font color='red'> Exercise 3 </font>\n",
        "\n",
        "Use a pipe to take a quote, split it into words, and then keeps all words that have at least 4 characters.  **Hint:** Use the `lengths_and_words` function! Package this process in a function called `at_least_4_char` and including appropriate doc string and text function."
      ]
    },
    {
      "cell_type": "code",
      "metadata": {
        "id": "vr3hol8qgofM",
        "outputId": "a5651479-b18c-404f-a630-e6d6640c7c4d",
        "colab": {
          "base_uri": "https://localhost:8080/",
          "height": 34
        }
      },
      "source": [
        "def at_least_4_char(quote):\n",
        "\n",
        "  \"\"\"This function keeps words that are greater than 4 letters.\n",
        "\n",
        "  Args: \n",
        "    quote: This is the quote to use for the function\n",
        "\n",
        "  Returns:\n",
        "    Returns all words that have 4 or more letters in a list\n",
        "\n",
        "  \"\"\"\n",
        "\n",
        "  criteria = pipeable(lambda l: [x for x in l if len(x) >= 4])\n",
        "\n",
        "  output = (quote\n",
        "  >> split(\" \")\n",
        "  >> criteria()\n",
        "  )\n",
        "\n",
        "  return(output)\n",
        "\n",
        "at_least_4_char(quote)"
      ],
      "execution_count": 15,
      "outputs": [
        {
          "output_type": "execute_result",
          "data": {
            "text/plain": [
              "[\"Don't\", 'judge', 'each', 'harvest', 'reap', 'seeds', 'that', 'plant.']"
            ]
          },
          "metadata": {
            "tags": []
          },
          "execution_count": 15
        }
      ]
    },
    {
      "cell_type": "markdown",
      "metadata": {
        "id": "b6fYxRPHgofO"
      },
      "source": [
        "<h2> <font color=\"red\"> TODO Add a section on refactoring compositions of comprehensions </font>"
      ]
    },
    {
      "cell_type": "code",
      "metadata": {
        "id": "M4-BCj7NKgdG"
      },
      "source": [
        ""
      ],
      "execution_count": null,
      "outputs": []
    }
  ]
}